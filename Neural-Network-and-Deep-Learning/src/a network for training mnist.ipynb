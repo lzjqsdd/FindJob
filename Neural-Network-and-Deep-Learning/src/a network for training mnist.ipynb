{
 "cells": [
  {
   "cell_type": "markdown",
   "metadata": {},
   "source": [
    "# 第一章 实现一个简单的神经网络，训练 mnist 数据集"
   ]
  },
  {
   "cell_type": "markdown",
   "metadata": {},
   "source": [
    "source code 在 /src folder内"
   ]
  },
  {
   "cell_type": "code",
   "execution_count": 1,
   "metadata": {
    "collapsed": true
   },
   "outputs": [],
   "source": [
    "import mnist_loader"
   ]
  },
  {
   "cell_type": "code",
   "execution_count": 3,
   "metadata": {
    "collapsed": false
   },
   "outputs": [],
   "source": [
    "training_data, validation_data, test_data = \\\n",
    "... mnist_loader.load_data_wrapper()"
   ]
  },
  {
   "cell_type": "code",
   "execution_count": 4,
   "metadata": {
    "collapsed": true
   },
   "outputs": [],
   "source": [
    "import network"
   ]
  },
  {
   "cell_type": "markdown",
   "metadata": {},
   "source": [
    "构建一个网络， input layer 784个神经元， 30 个hidden layer ， 10个 output layer"
   ]
  },
  {
   "cell_type": "code",
   "execution_count": 5,
   "metadata": {
    "collapsed": true
   },
   "outputs": [],
   "source": [
    "net = network.Network([784, 30, 10])"
   ]
  },
  {
   "cell_type": "markdown",
   "metadata": {},
   "source": [
    "SGD(随机梯度下降) epoch = 30 , mini_batch = 10 , learn_rate = 3.0 "
   ]
  },
  {
   "cell_type": "code",
   "execution_count": 6,
   "metadata": {
    "collapsed": false,
    "scrolled": true
   },
   "outputs": [
    {
     "name": "stdout",
     "output_type": "stream",
     "text": [
      "Epoch 0: 9088 / 10000\n",
      "Epoch 1: 9197 / 10000\n",
      "Epoch 2: 9247 / 10000\n",
      "Epoch 3: 9311 / 10000\n",
      "Epoch 4: 9354 / 10000\n",
      "Epoch 5: 9360 / 10000\n",
      "Epoch 6: 9378 / 10000\n",
      "Epoch 7: 9429 / 10000\n",
      "Epoch 8: 9415 / 10000\n",
      "Epoch 9: 9432 / 10000\n",
      "Epoch 10: 9394 / 10000\n",
      "Epoch 11: 9453 / 10000\n",
      "Epoch 12: 9453 / 10000\n",
      "Epoch 13: 9440 / 10000\n",
      "Epoch 14: 9444 / 10000\n",
      "Epoch 15: 9458 / 10000\n",
      "Epoch 16: 9449 / 10000\n",
      "Epoch 17: 9461 / 10000\n",
      "Epoch 18: 9463 / 10000\n",
      "Epoch 19: 9467 / 10000\n",
      "Epoch 20: 9488 / 10000\n",
      "Epoch 21: 9472 / 10000\n",
      "Epoch 22: 9480 / 10000\n",
      "Epoch 23: 9466 / 10000\n",
      "Epoch 24: 9467 / 10000\n",
      "Epoch 25: 9492 / 10000\n",
      "Epoch 26: 9472 / 10000\n",
      "Epoch 27: 9492 / 10000\n",
      "Epoch 28: 9474 / 10000\n",
      "Epoch 29: 9447 / 10000\n"
     ]
    }
   ],
   "source": [
    "net.SGD(training_data, 30, 10, 3.0, test_data= test_data)   "
   ]
  },
  {
   "cell_type": "code",
   "execution_count": null,
   "metadata": {
    "collapsed": true
   },
   "outputs": [],
   "source": []
  }
 ],
 "metadata": {
  "anaconda-cloud": {},
  "kernelspec": {
   "display_name": "Python [conda root]",
   "language": "python",
   "name": "conda-root-py"
  },
  "language_info": {
   "codemirror_mode": {
    "name": "ipython",
    "version": 2
   },
   "file_extension": ".py",
   "mimetype": "text/x-python",
   "name": "python",
   "nbconvert_exporter": "python",
   "pygments_lexer": "ipython2",
   "version": "2.7.12"
  }
 },
 "nbformat": 4,
 "nbformat_minor": 1
}
